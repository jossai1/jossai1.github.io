{
 "cells": [
  {
   "cell_type": "code",
   "execution_count": 1,
   "metadata": {
    "collapsed": false
   },
   "outputs": [
    {
     "ename": "IndentationError",
     "evalue": "expected an indented block (<ipython-input-1-c9483e8dc27e>, line 7)",
     "output_type": "error",
     "traceback": [
      "\u001b[1;36m  File \u001b[1;32m\"<ipython-input-1-c9483e8dc27e>\"\u001b[1;36m, line \u001b[1;32m7\u001b[0m\n\u001b[1;33m    def __init__(self, start_time, time_limit=60):\u001b[0m\n\u001b[1;37m      ^\u001b[0m\n\u001b[1;31mIndentationError\u001b[0m\u001b[1;31m:\u001b[0m expected an indented block\n"
     ]
    }
   ],
   "source": [
    "from pymongo import MongoClient\n",
    "import json\n",
    " \n",
    " \n",
    "class listener(StreamListener):\n",
    " \n",
    "def __init__(self, start_time, time_limit=60):\n",
    " \n",
    "self.time = start_time\n",
    "self.limit = time_limit\n",
    " \n",
    "def on_data(self, data):\n",
    " \n",
    "while (time.time() - self.time) &lt; self.limit:\n",
    " \n",
    "try:\n",
    " \n",
    " \n",
    "client = MongoClient('localhost', 27017)\n",
    "db = client['twitter_db']\n",
    "collection = db['twitter_collection']\n",
    "tweet = json.loads(data)\n",
    " \n",
    "collection.insert(tweet)\n",
    " \n",
    "return True\n",
    " \n",
    " \n",
    "except BaseException, e:\n",
    "print 'failed ondata,', str(e)\n",
    "time.sleep(5)\n",
    "pass\n",
    " \n",
    "exit()\n",
    " \n",
    "def on_error(self, status):\n",
    "print statuses"
   ]
  },
  {
   "cell_type": "code",
   "execution_count": null,
   "metadata": {
    "collapsed": true
   },
   "outputs": [],
   "source": []
  }
 ],
 "metadata": {
  "kernelspec": {
   "display_name": "Python 3",
   "language": "python",
   "name": "python3"
  },
  "language_info": {
   "codemirror_mode": {
    "name": "ipython",
    "version": 3
   },
   "file_extension": ".py",
   "mimetype": "text/x-python",
   "name": "python",
   "nbconvert_exporter": "python",
   "pygments_lexer": "ipython3",
   "version": "3.4.3"
  }
 },
 "nbformat": 4,
 "nbformat_minor": 0
}
