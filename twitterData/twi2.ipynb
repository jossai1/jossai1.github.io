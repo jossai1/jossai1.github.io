{
 "cells": [
  {
   "cell_type": "code",
   "execution_count": null,
   "metadata": {
    "collapsed": true
   },
   "outputs": [],
   "source": [
    "import tweepy"
   ]
  },
  {
   "cell_type": "code",
   "execution_count": null,
   "metadata": {
    "collapsed": true
   },
   "outputs": [],
   "source": [
    "from tweepy import OAuthHandler\n"
   ]
  },
  {
   "cell_type": "code",
   "execution_count": null,
   "metadata": {
    "collapsed": true
   },
   "outputs": [],
   "source": [
    "\n",
    "consumer_key = 'ZTaBahxF2OOxNvVbl0bqWjHRp'\n",
    "consumer_secret = 'BMwlGBP7UwiPaYCZsVxgZuYJlxU1YNDOyCHsNHhoMlSTvTOtnE'\n",
    "access_token = '320635547-RlIMphfJXI1gCOJwDh973Jztv75VE41ZWlF3kPV4'\n",
    "access_secret = 'kaCKZYboCDlVUuWaWLuwS07rEpihL9Vxn70iLoNjQhk4b'\n",
    " \n",
    "auth = OAuthHandler(consumer_key, consumer_secret)\n",
    "auth.set_access_token(access_token, access_secret)"
   ]
  },
  {
   "cell_type": "code",
   "execution_count": null,
   "metadata": {
    "collapsed": false
   },
   "outputs": [],
   "source": [
    " \n",
    "api = tweepy.API(auth)\n",
    "\n",
    "public_tweets = api.home_timeline()\n",
    "for tweet in public_tweets:\n",
    "    print (tweet.text)"
   ]
  },
  {
   "cell_type": "code",
   "execution_count": null,
   "metadata": {
    "collapsed": false
   },
   "outputs": [],
   "source": [
    "results = api.search(q=\"lagos traffic\")\n",
    "\n",
    "for result in results:\n",
    "    print (result.text)"
   ]
  },
  {
   "cell_type": "code",
   "execution_count": null,
   "metadata": {
    "collapsed": false
   },
   "outputs": [],
   "source": [
    "#getting my timeline\n",
    "import tweepy\n",
    "from tweepy import OAuthHandler\n",
    "\n",
    "\n",
    "consumer_key = 'ZTaBahxF2OOxNvVbl0bqWjHRp'\n",
    "consumer_secret = 'BMwlGBP7UwiPaYCZsVxgZuYJlxU1YNDOyCHsNHhoMlSTvTOtnE'\n",
    "access_token = '320635547-RlIMphfJXI1gCOJwDh973Jztv75VE41ZWlF3kPV4'\n",
    "access_secret = 'kaCKZYboCDlVUuWaWLuwS07rEpihL9Vxn70iLoNjQhk4b'\n",
    "\n",
    "auth = OAuthHandler(consumer_key, consumer_secret)\n",
    "auth.set_access_token(access_token, access_secret)\n",
    "client = tweepy.API(auth)\n",
    " \n",
    "timeline = client.home_timeline()\n",
    " \n",
    "for item in timeline:\n",
    "    text = \"@%s : '%s'\" % (item.user.screen_name, item.text)\n",
    "    print (text)"
   ]
  },
  {
   "cell_type": "code",
   "execution_count": null,
   "metadata": {
    "collapsed": false,
    "scrolled": true
   },
   "outputs": [],
   "source": [
    "##getting firends \n",
    "import tweepy\n",
    "from tweepy import OAuthHandler\n",
    "\n",
    "\n",
    "consumer_key = 'ZTaBahxF2OOxNvVbl0bqWjHRp'\n",
    "consumer_secret = 'BMwlGBP7UwiPaYCZsVxgZuYJlxU1YNDOyCHsNHhoMlSTvTOtnE'\n",
    "access_token = '320635547-RlIMphfJXI1gCOJwDh973Jztv75VE41ZWlF3kPV4'\n",
    "access_secret = 'kaCKZYboCDlVUuWaWLuwS07rEpihL9Vxn70iLoNjQhk4b'\n",
    "\n",
    "auth = OAuthHandler(consumer_key, consumer_secret)\n",
    "auth.set_access_token(access_token, access_secret)\n",
    " \n",
    "friends = client.friends()\n",
    "\n",
    "##only displays 20 friends \n",
    "##for friend in friends:\n",
    "    ##print (friend.name)\n",
    "\n",
    "##use cusor to display  more than 20 friends\n",
    "\n",
    "for friend in tweepy.Cursor(client.friends).items(200):\n",
    "    print (friend.name)\n"
   ]
  },
  {
   "cell_type": "code",
   "execution_count": null,
   "metadata": {
    "collapsed": false
   },
   "outputs": [],
   "source": [
    "#getting my timeline\n",
    "import tweepy\n",
    "from tweepy import OAuthHandler\n",
    "\n",
    "\n",
    "consumer_key = 'ZTaBahxF2OOxNvVbl0bqWjHRp'\n",
    "consumer_secret = 'BMwlGBP7UwiPaYCZsVxgZuYJlxU1YNDOyCHsNHhoMlSTvTOtnE'\n",
    "access_token = '320635547-RlIMphfJXI1gCOJwDh973Jztv75VE41ZWlF3kPV4'\n",
    "access_secret = 'kaCKZYboCDlVUuWaWLuwS07rEpihL9Vxn70iLoNjQhk4b'\n",
    "\n",
    "auth = OAuthHandler(consumer_key, consumer_secret)\n",
    "auth.set_access_token(access_token, access_secret)\n",
    "client = tweepy.API(auth)\n",
    " \n",
    "timeline = client.home_timeline()\n",
    "\n",
    "##sends out a tweet\n",
    " \n",
    "client.update_status('Testing Tweepy!')"
   ]
  },
  {
   "cell_type": "code",
   "execution_count": null,
   "metadata": {
    "collapsed": false
   },
   "outputs": [],
   "source": [
    "import tweepy\n",
    "from tweepy import OAuthHandler\n",
    "\n",
    "\n",
    "consumer_key = 'ZTaBahxF2OOxNvVbl0bqWjHRp'\n",
    "consumer_secret = 'BMwlGBP7UwiPaYCZsVxgZuYJlxU1YNDOyCHsNHhoMlSTvTOtnE'\n",
    "access_token = '320635547-RlIMphfJXI1gCOJwDh973Jztv75VE41ZWlF3kPV4'\n",
    "access_secret = 'kaCKZYboCDlVUuWaWLuwS07rEpihL9Vxn70iLoNjQhk4b'\n",
    "\n",
    "auth = OAuthHandler(consumer_key, consumer_secret)\n",
    "auth.set_access_token(access_token, access_secret)\n",
    "\n",
    "api = tweepy.API(auth)\n",
    "\n",
    "#override tweepy.StreamListener to add logic to on_status\n",
    "class MyStreamListener(tweepy.StreamListener):\n",
    "\n",
    "    def on_status(self, status):\n",
    "        print(status.text)\n",
    "        \n",
    "myStreamListener = MyStreamListener()\n",
    "myStream = tweepy.Stream(auth = api.auth, listener=myStreamListener())\n",
    "\n",
    "myStream.filter(track=['lagos traffic'])"
   ]
  },
  {
   "cell_type": "code",
   "execution_count": null,
   "metadata": {
    "collapsed": false
   },
   "outputs": [],
   "source": [
    "import tweepy\n",
    "import json\n",
    "\n",
    "# Authentication details. To  obtain these visit dev.twitter.com\n",
    "consumer_key = 'ZTaBahxF2OOxNvVbl0bqWjHRp'\n",
    "consumer_secret = 'BMwlGBP7UwiPaYCZsVxgZuYJlxU1YNDOyCHsNHhoMlSTvTOtnE'\n",
    "access_token =  '320635547-RlIMphfJXI1gCOJwDh973Jztv75VE41ZWlF3kPV4'\n",
    "access_token_secret = 'kaCKZYboCDlVUuWaWLuwS07rEpihL9Vxn70iLoNjQhk4b'\n",
    "# This is the listener, resposible for receiving data\n",
    "class StdOutListener(tweepy.StreamListener):\n",
    "    def on_data(self, data):\n",
    "        # Twitter returns data in JSON format - we need to decode it first\n",
    "        decoded = json.loads(data)\n",
    "\n",
    "        # Also, we convert UTF-8 to ASCII ignoring all bad characters sent by users\n",
    "        print ('@%s: %s' % (decoded['user']['screen_name'], decoded['text'].encode('ascii', 'ignore')))\n",
    "        print ('')\n",
    "        return True\n",
    "\n",
    "    def on_error(self, status):\n",
    "        print (status)\n",
    "\n",
    "if __name__ == '__main__':\n",
    "    l = StdOutListener()\n",
    "    auth = tweepy.OAuthHandler(consumer_key, consumer_secret)\n",
    "    auth.set_access_token(access_token, access_token_secret)\n",
    "\n",
    "    print (\"Showing all new tweets for #programming:\")\n",
    "\n",
    "    # There are different kinds of streams: public stream, user stream, multi-user streams\n",
    "    # In this example follow #programming tag\n",
    "    # For more details refer to https://dev.twitter.com/docs/streaming-apis\n",
    "    stream = tweepy.Stream(auth, l)\n",
    "    stream.filter(track=['programming'])"
   ]
  },
  {
   "cell_type": "code",
   "execution_count": null,
   "metadata": {
    "collapsed": true
   },
   "outputs": [],
   "source": [
    "import json\n",
    "import pymongo\n",
    "import tweepy\n",
    "\n",
    "consumer_key = 'ZTaBahxF2OOxNvVbl0bqWjHRp'\n",
    "consumer_secret = 'BMwlGBP7UwiPaYCZsVxgZuYJlxU1YNDOyCHsNHhoMlSTvTOtnE'\n",
    "access_token = '320635547-RlIMphfJXI1gCOJwDh973Jztv75VE41ZWlF3kPV4'\n",
    "access_secret = 'kaCKZYboCDlVUuWaWLuwS07rEpihL9Vxn70iLoNjQhk4b'\n",
    "\n",
    "auth = tweepy.OAuthHandler(consumer_key, consumer_secret)\n",
    "auth.set_access_token(access_token, access_secret)\n",
    "api = tweepy.API(auth)\n",
    "\n",
    "\n",
    "class CustomStreamListener(tweepy.StreamListener):\n",
    "    def __init__(self, api):\n",
    "        self.api = api\n",
    "        super(tweepy.StreamListener, self).__init__()\n",
    "\n",
    "        self.db = pymongo.MongoClient().mine\n",
    "\n",
    "    def on_data(self, tweet):\n",
    "        self.db.tweets.insert(json.loads(tweet.text))\n",
    "\n",
    "    def on_error(self, status_code):\n",
    "        return True # Don't kill the stream\n",
    "\n",
    "    def on_timeout(self):\n",
    "        return True # Don't kill the stream\n",
    "\n",
    "\n",
    "sapi = tweepy.streaming.Stream(auth, CustomStreamListener(api))\n",
    "sapi.filter(track=['lagos traffic'])"
   ]
  },
  {
   "cell_type": "code",
   "execution_count": null,
   "metadata": {
    "collapsed": true
   },
   "outputs": [],
   "source": []
  },
  {
   "cell_type": "code",
   "execution_count": null,
   "metadata": {
    "collapsed": true
   },
   "outputs": [],
   "source": []
  },
  {
   "cell_type": "code",
   "execution_count": null,
   "metadata": {
    "collapsed": true
   },
   "outputs": [],
   "source": []
  },
  {
   "cell_type": "code",
   "execution_count": null,
   "metadata": {
    "collapsed": true
   },
   "outputs": [],
   "source": []
  },
  {
   "cell_type": "code",
   "execution_count": null,
   "metadata": {
    "collapsed": true
   },
   "outputs": [],
   "source": []
  }
 ],
 "metadata": {
  "kernelspec": {
   "display_name": "Python 3",
   "language": "python",
   "name": "python3"
  },
  "language_info": {
   "codemirror_mode": {
    "name": "ipython",
    "version": 3
   },
   "file_extension": ".py",
   "mimetype": "text/x-python",
   "name": "python",
   "nbconvert_exporter": "python",
   "pygments_lexer": "ipython3",
   "version": "3.4.3"
  }
 },
 "nbformat": 4,
 "nbformat_minor": 0
}
